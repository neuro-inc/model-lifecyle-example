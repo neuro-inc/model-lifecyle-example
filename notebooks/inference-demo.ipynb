{
 "cells": [
  {
   "cell_type": "markdown",
   "id": "7f231f8d",
   "metadata": {},
   "source": [
    "## Preparations\n",
    "\n",
    "You must have executed the cells in `training-demo.ipynb` and started an inference server with Apolo Deploy to continue."
   ]
  },
  {
   "cell_type": "markdown",
   "id": "1d13f719",
   "metadata": {},
   "source": [
    "## Installing Dependencies"
   ]
  },
  {
   "cell_type": "code",
   "execution_count": null,
   "id": "fda2ec6b-0131-4852-88d6-4aab698b1641",
   "metadata": {
    "scrolled": true
   },
   "outputs": [],
   "source": [
    "!pip install apolo-sdk apolo-extras"
   ]
  },
  {
   "cell_type": "markdown",
   "id": "b31c1049",
   "metadata": {},
   "source": [
    "## Testing the Inference Server"
   ]
  },
  {
   "cell_type": "code",
   "execution_count": null,
   "id": "8cc8333c",
   "metadata": {},
   "outputs": [],
   "source": [
    "import requests\n",
    "import json\n",
    "import apolo_sdk\n",
    "\n",
    "# Get the Triton server URL from the Apolo SDK\n",
    "async with apolo_sdk.get() as client:\n",
    "    apolo_token = await client.config.token()\n",
    "    async with client.jobs.list(name=[\"triton\"], statuses=[apolo_sdk.JobStatus.RUNNING]) as job_iter:\n",
    "        jobs = [job async for job in job_iter]\n",
    "        server_url = jobs[0].http_url\n",
    "\n",
    "# Define the endpoint URL\n",
    "url = f\"{server_url}/v2/models/onnx-iris-perceptron-production/versions/1/infer\"\n",
    "\n",
    "# Create the payload with normalized input values\n",
    "payload = {\n",
    "    \"id\": \"test_request\",\n",
    "    \"inputs\": [\n",
    "        {\n",
    "            \"name\": \"X\",\n",
    "            \"shape\": [1, 4],\n",
    "            \"datatype\": \"FP32\",\n",
    "            \"data\": [0.22, 0.63, 0.07, 0.04]\n",
    "        }\n",
    "    ]\n",
    "}\n",
    "\n",
    "# Set the headers\n",
    "headers = {\n",
    "    \"Content-Type\": \"application/json\",\n",
    "    \"Authorization\": f\"Bearer {apolo_token}\"\n",
    "}\n",
    "\n",
    "# Make the POST request\n",
    "response = requests.post(url, headers=headers, data=json.dumps(payload))\n",
    "\n",
    "# Print the response\n",
    "print(\"Status Code:\", response.status_code)\n",
    "print(\"Response:\")\n",
    "print(response.text)\n",
    "print(json.dumps(response.json(), indent=2))"
   ]
  }
 ],
 "metadata": {
  "kernelspec": {
   "display_name": "Python [conda env:base] *",
   "language": "python",
   "name": "conda-base-py"
  },
  "language_info": {
   "codemirror_mode": {
    "name": "ipython",
    "version": 3
   },
   "file_extension": ".py",
   "mimetype": "text/x-python",
   "name": "python",
   "nbconvert_exporter": "python",
   "pygments_lexer": "ipython3",
   "version": "3.11.10"
  }
 },
 "nbformat": 4,
 "nbformat_minor": 5
}
